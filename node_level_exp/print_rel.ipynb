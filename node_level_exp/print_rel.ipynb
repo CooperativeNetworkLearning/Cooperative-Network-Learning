{
 "cells": [
  {
   "cell_type": "code",
   "execution_count": 1,
   "outputs": [],
   "source": [
    "import yaml\n",
    "import numpy as np\n",
    "import os"
   ],
   "metadata": {
    "collapsed": false,
    "pycharm": {
     "name": "#%%\n"
    }
   }
  },
  {
   "cell_type": "code",
   "execution_count": 95,
   "outputs": [],
   "source": [
    "dataset = 'chameleon'\n",
    "seed=8\n",
    "model='GCN'\n",
    "client_num = 3 #机构数量\n",
    "local_log_path = os.path.join('.', 'local_log', f'{dataset}_{model}_c{client_num}_seed{seed}')\n",
    "institution_name = ['-sub' + chr(ord('A') + idx) for idx in range(client_num)]"
   ],
   "metadata": {
    "collapsed": false,
    "pycharm": {
     "name": "#%%\n"
    }
   }
  },
  {
   "cell_type": "code",
   "execution_count": 96,
   "outputs": [
    {
     "name": "stdout",
     "output_type": "stream",
     "text": [
      "==============================================\n",
      "=========== chameleon, seed8, model:GCN ===========\n",
      "============= Centralized model =============\n",
      "-subA 0.6181818181818182\n",
      "-subB 0.7410071942446043\n",
      "-subC 0.4492753623188406\n",
      "-global: 0.6673960612691466\n",
      "============= Local model =============\n",
      "-subA 0.6066666666666667\n",
      "-subB 0.5963636363636363\n",
      "-subC 0.4857142857142857\n",
      "-global 0.5830626612444794\n"
     ]
    }
   ],
   "source": [
    "\"\"\"\n",
    "Centralized model\n",
    "\"\"\"\n",
    "print(f\"==============================================\")\n",
    "print(f\"=========== {dataset}, seed{seed}, model:{model} ===========\")\n",
    "print(\"============= Centralized model =============\")\n",
    "with open(os.path.join(local_log_path, dataset+'-global_runTag-1_log.yaml'), \"r\") as f:\n",
    "    rel_log=yaml.safe_load(f)\n",
    "    sub_acc = rel_log['sub_acc']\n",
    "    for idx, ins in enumerate(institution_name):\n",
    "        print(ins, sub_acc[idx])\n",
    "    print('-global:', rel_log['test_acc'])\n",
    "\n",
    "\n",
    "\"\"\"\n",
    "Local model\n",
    "\"\"\"\n",
    "print(\"============= Local model =============\")\n",
    "global_acc, global_num = 0, 0\n",
    "for ins in institution_name:\n",
    "    with open(os.path.join(local_log_path, dataset+ins+'_runTag' + str(-1)+\"_log.yaml\"), \"r\") as f:\n",
    "        rel_log=yaml.safe_load(f)\n",
    "        test_acc = rel_log['test_acc']\n",
    "\n",
    "        localIndex = rel_log['args']['localIndex']\n",
    "        localIndex = localIndex if isinstance(localIndex, int) else len(localIndex)\n",
    "        global_acc += test_acc*localIndex\n",
    "        global_num += localIndex\n",
    "\n",
    "        print(ins, test_acc)\n",
    "\n",
    "print('-global', global_acc/global_num)"
   ],
   "metadata": {
    "collapsed": false,
    "pycharm": {
     "name": "#%%\n"
    }
   }
  },
  {
   "cell_type": "code",
   "execution_count": 97,
   "outputs": [
    {
     "name": "stdout",
     "output_type": "stream",
     "text": [
      "============= Integrated model (runTag=0) =============\n",
      "-subA 0.6066666666666667\n",
      "-subB 0.5890909090909091\n",
      "-subC 0.5857142857142857\n",
      "-global 0.5931045824326457\n"
     ]
    }
   ],
   "source": [
    "\"\"\"\n",
    "Integrated model\n",
    "\"\"\"\n",
    "runTag=0\n",
    "print(f\"============= Integrated model (runTag={runTag}) =============\")\n",
    "global_acc, global_num = 0, 0\n",
    "for ins in institution_name:\n",
    "    with open(os.path.join(local_log_path, dataset+ins+'_runTag' + str(runTag)+\"_log.yaml\"), \"r\") as f:\n",
    "        rel_log=yaml.safe_load(f)\n",
    "        test_acc = rel_log['test_acc']\n",
    "\n",
    "        localIndex = rel_log['args']['localIndex']\n",
    "        localIndex = localIndex if isinstance(localIndex, int) else len(localIndex)\n",
    "        global_acc += test_acc*localIndex\n",
    "        global_num += localIndex\n",
    "\n",
    "        print(ins, test_acc)\n",
    "\n",
    "print('-global', global_acc/global_num)"
   ],
   "metadata": {
    "collapsed": false,
    "pycharm": {
     "name": "#%%\n"
    }
   }
  },
  {
   "cell_type": "code",
   "execution_count": null,
   "outputs": [],
   "source": [],
   "metadata": {
    "collapsed": false,
    "pycharm": {
     "name": "#%%\n"
    }
   }
  }
 ],
 "metadata": {
  "kernelspec": {
   "display_name": "Python 3",
   "language": "python",
   "name": "python3"
  },
  "language_info": {
   "codemirror_mode": {
    "name": "ipython",
    "version": 2
   },
   "file_extension": ".py",
   "mimetype": "text/x-python",
   "name": "python",
   "nbconvert_exporter": "python",
   "pygments_lexer": "ipython2",
   "version": "2.7.6"
  }
 },
 "nbformat": 4,
 "nbformat_minor": 0
}