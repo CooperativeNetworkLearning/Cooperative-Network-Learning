{
 "cells": [
  {
   "cell_type": "code",
   "execution_count": 27,
   "metadata": {},
   "outputs": [],
   "source": [
    "import os, itertools, random, argparse, time, datetime,torch\n",
    "ap = argparse.ArgumentParser()\n",
    "ap.add_argument('--dataset', type=str, default='region785', help=\"Dataset string\")\n",
    "ap.add_argument('--n_layer', type=int, default=1, help=\"number of layers (default 1)\")\n",
    "ap.add_argument('--n_hidden', type=int, default=20, help=\"rnn hidden states (could be set as any value)\")\n",
    "ap.add_argument('--seed', type=int, default=42, help='random seed')\n",
    "ap.add_argument('--epochs', type=int, default=15, help='number of epochs to train')\n",
    "ap.add_argument('--lr', type=float, default=1e-3, help='initial learning rate')\n",
    "ap.add_argument('--weight_decay', type=float, default=5e-4, help='weight decay (L2 loss on parameters).')\n",
    "ap.add_argument('--dropout', type=float, default=0.2, help='dropout rate usually 0.2-0.5.')\n",
    "ap.add_argument('--batch', type=int, default=128, help=\"batch size\")\n",
    "ap.add_argument('--check_point', type=int, default=1, help=\"check point\")\n",
    "ap.add_argument('--shuffle', action='store_true', default=False, help=\"not used, default false\")\n",
    "ap.add_argument('--train', type=float, default=.5, help=\"Training ratio (0, 1)\")\n",
    "ap.add_argument('--val', type=float, default=.2, help=\"Validation ratio (0, 1)\")\n",
    "ap.add_argument('--test', type=float, default=.3, help=\"Testing ratio (0, 1)\")\n",
    "ap.add_argument('--mylog', action='store_false', default=True, help='save tensorboad log')\n",
    "ap.add_argument('--cuda', action='store_true', default=False, help='')\n",
    "ap.add_argument('--window', type=int, default=20, help='')\n",
    "ap.add_argument('--horizon', type=int, default=5, help='leadtime default 5')\n",
    "ap.add_argument('--gpu', type=int, default=0, help='choose gpu 0-10')\n",
    "ap.add_argument('--lamda', type=float, default=0.01, help='regularize params similarities of states')\n",
    "ap.add_argument('--patience', type=int, default=50, help='patience default 100')\n",
    "ap.add_argument('--k', type=int, default=8, help='kernels')\n",
    "ap.add_argument('--hidA', type=int, default=64, help='hidden dim of attention layer')\n",
    "ap.add_argument('--hidP', type=int, default=1, help='hidden dim of adaptive pooling')\n",
    "ap.add_argument('--extra', type=str, default='', help='externel folder')\n",
    "ap.add_argument('--label', type=str, default='', help='label_file')\n",
    "ap.add_argument('--pcc', type=str, default='', help='have pcc?')\n",
    "ap.add_argument('--n', type=int, default=2, help='layer number of GCN')\n",
    "ap.add_argument('--res', type=int, default=0, help='0 means no residual link while 1 means need residual link')\n",
    "ap.add_argument('--s', type=int, default=2, help='kernel size of temporal convolution network')\n",
    "ap.add_argument('--result', type=int, default=0, help='0 means do not show result while 1 means show result')\n",
    "ap.add_argument('--ablation', type=str, default=None, help='ablation test')\n",
    "ap.add_argument('--eval', type=str, default='', help='evaluation test file')\n",
    "ap.add_argument('--record', type=str, default='', help='record the result')\n",
    "ap.add_argument('--model', type=str, default='GAT', help='model')\n",
    "args = ap.parse_args([])\n",
    "\n",
    "args.runTag = -1  # -1说明是初始生成轮,该文件中必须为-1\n",
    "args.global_nei_num = 0  # 邻居数量，该文件中必须为0\n",
    "args.hidR = args.k * 4 * args.hidP + args.k #不能修改\n",
    "\n",
    "\n"
   ]
  },
  {
   "cell_type": "code",
   "execution_count": 26,
   "metadata": {},
   "outputs": [
    {
     "name": "stdout",
     "output_type": "stream",
     "text": [
      "940868e4-dd48-4acc-b00c-7730967bc3d1\n",
      "-1\n",
      "-1\n",
      "-1\n",
      "-1\n",
      "-1\n",
      "tensor([[[-0.3710,  0.0492,  0.5038,  ...,  0.3573,  0.4969,  0.0971]],\n",
      "\n",
      "        [[-0.3733,  0.0492,  0.5037,  ...,  0.3570,  0.5031,  0.1009]],\n",
      "\n",
      "        [[-0.3742,  0.0493,  0.5058,  ...,  0.3572,  0.5171,  0.0982]],\n",
      "\n",
      "        ...,\n",
      "\n",
      "        [[-0.3838,  0.0490,  0.4983,  ...,  0.3668,  0.4096, -0.0026]],\n",
      "\n",
      "        [[-0.3838,  0.0482,  0.4983,  ...,  0.3659,  0.4276,  0.0152]],\n",
      "\n",
      "        [[-0.3838,  0.0482,  0.4983,  ...,  0.3646,  0.4413,  0.0232]]],\n",
      "       dtype=torch.float64)\n"
     ]
    },
    {
     "data": {
      "text/plain": [
       "tensor([[[-0.3710,  0.0492,  0.5038,  ...,  0.3573,  0.4969,  0.0971]],\n",
       "\n",
       "        [[-0.3733,  0.0492,  0.5037,  ...,  0.3570,  0.5031,  0.1009]],\n",
       "\n",
       "        [[-0.3742,  0.0493,  0.5058,  ...,  0.3572,  0.5171,  0.0982]],\n",
       "\n",
       "        ...,\n",
       "\n",
       "        [[-0.3838,  0.0490,  0.4983,  ...,  0.3668,  0.4096, -0.0026]],\n",
       "\n",
       "        [[-0.3838,  0.0482,  0.4983,  ...,  0.3659,  0.4276,  0.0152]],\n",
       "\n",
       "        [[-0.3838,  0.0482,  0.4983,  ...,  0.3646,  0.4413,  0.0232]]],\n",
       "       dtype=torch.float64)"
      ]
     },
     "execution_count": 26,
     "metadata": {},
     "output_type": "execute_result"
    }
   ],
   "source": [
    "import zerorpc\n",
    "import uuid\n",
    "from SN1.security import *\n",
    "##初始化\n",
    "task_id = str(uuid.uuid4())\n",
    "raw_task_id = task_id\n",
    "print(task_id)\n",
    "pu = loadPublicKey('./SN1/public.pem')\n",
    "text = pickle.dumps(task_id)\n",
    "task_id = encrypt(text, pu)\n",
    "\n",
    "cstring = ('tcp://%s:%d'%('127.0.0.1',20001))\n",
    "c = zerorpc.Client(heartbeat=None)\n",
    "c.connect(cstring)\n",
    "c.iniItask(task_id)\n",
    "_,_,d = c.get_nei_embed(pickle.dumps(args), raw_task_id)\n",
    "while True:\n",
    "    ##等待计算完毕，每10秒检测1次\n",
    "    a = pickle.loads(c.get_nei_embed_sum(raw_task_id, d))\n",
    "    if not isinstance(a,int):\n",
    "        res = a\n",
    "        break\n",
    "    time.sleep(10)\n",
    "#邻居嵌入之和\n",
    "res"
   ]
  }
 ],
 "metadata": {
  "kernelspec": {
   "display_name": "Python 3.8.13 ('sg')",
   "language": "python",
   "name": "python3"
  },
  "language_info": {
   "codemirror_mode": {
    "name": "ipython",
    "version": 3
   },
   "file_extension": ".py",
   "mimetype": "text/x-python",
   "name": "python",
   "nbconvert_exporter": "python",
   "pygments_lexer": "ipython3",
   "version": "3.8.13"
  },
  "orig_nbformat": 4,
  "vscode": {
   "interpreter": {
    "hash": "f2220fd47d8298eec74e6a3486a50bc91a26134583771ccaad7b83459ae2393c"
   }
  }
 },
 "nbformat": 4,
 "nbformat_minor": 2
}
