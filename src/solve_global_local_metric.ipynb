{
 "cells": [
  {
   "cell_type": "code",
   "execution_count": 1,
   "outputs": [],
   "source": [
    "import torch\n",
    "import yaml\n",
    "import os\n",
    "from math import sqrt\n",
    "from sklearn.metrics import mean_squared_error\n",
    "from scipy.stats.stats import pearsonr\n",
    "from utils.data_utils import *\n",
    "import numpy as np"
   ],
   "metadata": {
    "collapsed": false,
    "pycharm": {
     "name": "#%%\n"
    }
   }
  },
  {
   "cell_type": "code",
   "execution_count": 2,
   "outputs": [],
   "source": [
    "\"\"\"\n",
    "选择数据集\n",
    "\"\"\"\n",
    "dataset = 'twitter'\n",
    "client_num = 3 #机构数量\n",
    "local_log_path = os.path.join('.', 'local_log', 'GAT_twitter_w20h7c3')\n"
   ],
   "metadata": {
    "collapsed": false,
    "pycharm": {
     "name": "#%%\n"
    }
   }
  },
  {
   "cell_type": "code",
   "execution_count": 3,
   "outputs": [
    {
     "name": "stdout",
     "output_type": "stream",
     "text": [
      "Centralized model:  {'mse': 1830365.1298534586, 'rmse': 1352.909874992957, 'mae': 486.5475042891378, 'mape': 0.8920565379025248, 'pcc': 0.9568081617525952, 'r2': 0.9135341921702629}\n",
      "Centralized model (A): {'mse': 483141.3306413577, 'rmse': 695.0836860705031, 'mae': 416.27156710875664, 'mape': 0.5832232609367072, 'pcc': 0.877596086202056, 'r2': 0.7607661844578033}\n",
      "Centralized model (B): {'mse': 3231750.4543137522, 'rmse': 1797.7069990167342, 'mae': 501.69616611053544, 'mape': 1.266713918353391, 'pcc': 0.9585678415689818, 'r2': 0.9162404679625922}\n",
      "Centralized model (C): {'mse': 1864212.070284789, 'rmse': 1365.3615163336005, 'mae': 583.1444946202365, 'mape': 0.812420121014793, 'pcc': 0.9625470950413267, 'r2': 0.9240742057934431}\n"
     ]
    }
   ],
   "source": [
    "\"\"\"\n",
    "centralized模型及其各个子机构的结果\n",
    "\"\"\"\n",
    "institution_name = dataset + '-global'\n",
    "_, institution_list = gen_institution(dataset,client_num)\n",
    "y_true_states = []\n",
    "y_pred_states = []\n",
    "with open(os.path.join(local_log_path, institution_name+'_runTag' + str(-1)+\"_log.yaml\"), \"r\") as f:\n",
    "    rel_log=yaml.safe_load(f)\n",
    "    y_true_states = np.array(rel_log['y_true_states'])\n",
    "    y_pred_states = np.array(rel_log['y_pred_states'])\n",
    "    y_true = np.reshape(y_true_states, (-1))\n",
    "    y_pred = np.reshape(y_pred_states, (-1))\n",
    "    metrics = regression_metrics(y_true,y_pred)\n",
    "    print(\"Centralized model: \",metrics)\n",
    "\n",
    "for i in range(0,client_num):\n",
    "    institueion_idx = institution_list[i]\n",
    "    y_true = np.reshape(y_true_states[:, institueion_idx], (-1))\n",
    "    y_pred = np.reshape(y_pred_states[:, institueion_idx], (-1))\n",
    "    metrics = regression_metrics(y_true,y_pred)\n",
    "    print(\"Centralized model ({}):\".format(chr(ord('A') + i)), metrics)"
   ],
   "metadata": {
    "collapsed": false,
    "pycharm": {
     "name": "#%%\n"
    }
   }
  },
  {
   "cell_type": "code",
   "execution_count": 5,
   "outputs": [
    {
     "name": "stdout",
     "output_type": "stream",
     "text": [
      "twitter-subA: {'mse': 522009.9446345047, 'rmse': 722.5025568359636, 'mae': 412.0730777113061, 'mape': 0.5609449503604691, 'pcc': 0.8640256504820671, 'r2': 0.7415198765129342}\n",
      "twitter-subB: {'mse': 3900144.039408493, 'rmse': 1974.878234071279, 'mae': 537.0357583668497, 'mape': 1.3411400350980947, 'pcc': 0.9571845520840634, 'r2': 0.8989172449304386}\n",
      "twitter-subC: {'mse': 2307104.4825579985, 'rmse': 1518.91556136541, 'mae': 650.2360830740495, 'mape': 0.7699654932177586, 'pcc': 0.954175587473578, 'r2': 0.9060360444244073}\n",
      "global view for local models:  {'mse': 2197894.395115551, 'rmse': 1482.5297282400616, 'mae': 513.5131050194303, 'mape': 0.9014186482085409, 'pcc': 0.9486145479007393, 'r2': 0.8961722383700936}\n"
     ]
    }
   ],
   "source": [
    "\"\"\"\n",
    "将子机构的结果整合，求在所有节点上的平均效果\n",
    "\"\"\"\n",
    "runTag = 0 #可以是-1，0，1...\n",
    "y_true = []\n",
    "y_pred = []\n",
    "for institueion_idx in range(0,client_num):\n",
    "    institution_name = dataset + '-sub' + chr(ord('A') + institueion_idx)\n",
    "    with open(os.path.join(local_log_path, institution_name+'_runTag' + str(runTag)+\"_log.yaml\"), \"r\") as f:\n",
    "        rel_log=yaml.safe_load(f)\n",
    "        y_true_states = np.reshape(np.array(rel_log['y_true_states']), (-1))\n",
    "        y_pred_states = np.reshape(np.array(rel_log['y_pred_states']), (-1))\n",
    "        y_true = np.append(y_true, y_true_states)\n",
    "        y_pred = np.append(y_pred, y_pred_states)\n",
    "        metrics = regression_metrics(y_true_states,y_pred_states)\n",
    "        print(\"{}:\".format(institution_name), metrics)\n",
    "\n",
    "metrics = regression_metrics(y_true,y_pred)\n",
    "print(\"global view for local models: \", metrics)"
   ],
   "metadata": {
    "collapsed": false,
    "pycharm": {
     "name": "#%%\n"
    }
   }
  },
  {
   "cell_type": "code",
   "execution_count": 6,
   "outputs": [
    {
     "name": "stdout",
     "output_type": "stream",
     "text": [
      "Local: [0.8698470035013282, 0.9571845520840634, 0.9205679495045057]\n",
      "Integrated: [0.8640256504820671, 0.9571845520840634, 0.954175587473578]\n",
      "pcc下降节点数量:14\n",
      "pcc不变节点数量:18\n",
      "pcc上升节点数量:16\n",
      "节点总数:48\n",
      "pcc下降机构数量:1\n",
      "pcc不变机构数量:1\n",
      "pcc上升机构数量:1\n",
      "机构总数:3\n"
     ]
    }
   ],
   "source": [
    "\"\"\"\n",
    "比较integrated模型相较于local模型提升了多少\n",
    "\"\"\"\n",
    "runTag = 0 #integrated模型的runTage>-1\n",
    "criteria = 'pcc' #模型平均标准\n",
    "\n",
    "\n",
    "rel_local, rel_integrated = [], []\n",
    "rel_local_ins, rel_integrated_ins = [], []\n",
    "for institueion_idx in range(0,client_num):\n",
    "    institution_name = dataset + '-sub' + chr(ord('A') + institueion_idx)\n",
    "    with open(os.path.join(local_log_path, institution_name+'_runTag' + str(runTag)+\"_log.yaml\"), \"r\") as f:\n",
    "        rel_log=yaml.safe_load(f)\n",
    "        y_true_states = np.array(rel_log['y_true_states'])\n",
    "        y_pred_states = np.array(rel_log['y_pred_states'])\n",
    "        # 机构级别结果\n",
    "        metrics = regression_metrics(np.reshape(y_true_states, (-1)), np.reshape(y_pred_states, (-1)))\n",
    "        rel_integrated_ins.append(metrics[criteria])\n",
    "        # 节点级别结果\n",
    "        for i in range(y_pred_states.shape[1]):\n",
    "            y_true = np.reshape(y_true_states[:,i], (-1))\n",
    "            y_pred = np.reshape(y_pred_states[:,i], (-1))\n",
    "            metrics = regression_metrics(y_true,y_pred)\n",
    "            rel_integrated.append(metrics[criteria])\n",
    "\n",
    "    with open(os.path.join(local_log_path, institution_name+'_runTag' + str(-1)+\"_log.yaml\"), \"r\") as f:\n",
    "        rel_log=yaml.safe_load(f)\n",
    "        y_true_states = np.array(rel_log['y_true_states'])\n",
    "        y_pred_states = np.array(rel_log['y_pred_states'])\n",
    "        # 机构级别结果\n",
    "        metrics = regression_metrics(np.reshape(y_true_states, (-1)), np.reshape(y_pred_states, (-1)))\n",
    "        rel_local_ins.append(metrics[criteria])\n",
    "        # 节点级别结果\n",
    "        for i in range(y_pred_states.shape[1]):\n",
    "            y_true = np.reshape(y_true_states[:,i], (-1))\n",
    "            y_pred = np.reshape(y_pred_states[:,i], (-1))\n",
    "            metrics = regression_metrics(y_true,y_pred)\n",
    "            rel_local.append(metrics[criteria])\n",
    "\n",
    "print(\"Local:\", rel_local_ins)\n",
    "print(\"Integrated:\", rel_integrated_ins)\n",
    "\n",
    "rel_local = np.array(rel_local)\n",
    "rel_integrated = np.array(rel_integrated)\n",
    "rel_local_ins = np.array(rel_local_ins)\n",
    "rel_integrated_ins = np.array(rel_integrated_ins)\n",
    "\n",
    "print(\"{}下降节点数量:{}\".format(criteria,sum(rel_integrated<rel_local)))\n",
    "print(\"{}不变节点数量:{}\".format(criteria,sum(rel_integrated==rel_local)))\n",
    "print(\"{}上升节点数量:{}\".format(criteria,sum(rel_integrated>rel_local)))\n",
    "print(\"节点总数:{}\".format(len(rel_local)))\n",
    "\n",
    "print(\"{}下降机构数量:{}\".format(criteria,sum(rel_integrated_ins<rel_local_ins)))\n",
    "print(\"{}不变机构数量:{}\".format(criteria,sum(rel_integrated_ins==rel_local_ins)))\n",
    "print(\"{}上升机构数量:{}\".format(criteria,sum(rel_integrated_ins>rel_local_ins)))\n",
    "print(\"机构总数:{}\".format(len(rel_local_ins)))"
   ],
   "metadata": {
    "collapsed": false,
    "pycharm": {
     "name": "#%%\n"
    }
   }
  },
  {
   "cell_type": "code",
   "execution_count": null,
   "outputs": [],
   "source": [],
   "metadata": {
    "collapsed": false,
    "pycharm": {
     "name": "#%%\n"
    }
   }
  }
 ],
 "metadata": {
  "kernelspec": {
   "display_name": "Python 3",
   "language": "python",
   "name": "python3"
  },
  "language_info": {
   "codemirror_mode": {
    "name": "ipython",
    "version": 2
   },
   "file_extension": ".py",
   "mimetype": "text/x-python",
   "name": "python",
   "nbconvert_exporter": "python",
   "pygments_lexer": "ipython2",
   "version": "2.7.6"
  }
 },
 "nbformat": 4,
 "nbformat_minor": 0
}